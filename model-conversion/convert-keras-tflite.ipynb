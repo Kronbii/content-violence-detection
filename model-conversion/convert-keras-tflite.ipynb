{
 "cells": [
  {
   "cell_type": "code",
   "execution_count": null,
   "id": "43e2bd28",
   "metadata": {},
   "outputs": [],
   "source": [
    "!pip install numpy==1.26.4\n",
    "!pip install tensorflow==2.15.0\n",
    "!pip install tensorflow-addons==0.23.0\n",
    "!pip install tensorflow-datasets==4.9.9\n",
    "!pip install tensorflow-estimator==2.15.0\n",
    "!pip install tensorflow-hub==0.16.1\n",
    "!pip install tensorflow-io-gcs-filesystem==0.37.1\n",
    "!pip install tensorflow-metadata==1.13.1\n",
    "!pip install tensorflow-model-optimization==0.8.0\n",
    "!pip install tensorflow-probability==0.23.0\n",
    "!pip install torch==2.7.1\n",
    "!pip install tf-keras==2.15.0\n",
    "!pip install keras==2.15.0"
   ]
  },
  {
   "cell_type": "code",
   "execution_count": null,
   "id": "18ee65b7",
   "metadata": {},
   "outputs": [],
   "source": [
    "import tensorflow as tf"
   ]
  },
  {
   "cell_type": "code",
   "execution_count": null,
   "id": "28cda681",
   "metadata": {},
   "outputs": [],
   "source": [
    "print(\"Upload your Keras model file (.h5) from your laptop.\")\n",
    "keras_model_dir = \"\""
   ]
  },
  {
   "cell_type": "code",
   "execution_count": null,
   "id": "94806c29",
   "metadata": {},
   "outputs": [],
   "source": [
    "print(\"Loading Keras model...\")\n",
    "try:\n",
    "    # Load the model from the uploaded file\n",
    "    keras_model = tf.keras.models.load_model(keras_model_dir)\n",
    "    print(\"Model loaded successfully.\")\n",
    "    keras_model.summary()\n",
    "except Exception as e:\n",
    "    print(f\"Error loading model: {e}\")"
   ]
  },
  {
   "cell_type": "code",
   "execution_count": null,
   "id": "6a69aa1b",
   "metadata": {},
   "outputs": [],
   "source": [
    "converter = tf.lite.TFLiteConverter.from_keras_model(keras_model)\n",
    "tflite_model_float = converter.convert()"
   ]
  },
  {
   "cell_type": "code",
   "execution_count": null,
   "id": "a99b42ed",
   "metadata": {},
   "outputs": [],
   "source": [
    "file_name = 'violence_model_float.tflite'\n",
    "\n",
    "with open(file_name, 'wb') as f:\n",
    "    f.write(tflite_model_float)\n",
    "\n",
    "print(f\"Successfully saved model as '{file_name}' in the Colab environment.\")"
   ]
  }
 ],
 "metadata": {
  "kernelspec": {
   "display_name": "freelance",
   "language": "python",
   "name": "python3"
  },
  "language_info": {
   "name": "python",
   "version": "3.10.18"
  }
 },
 "nbformat": 4,
 "nbformat_minor": 5
}
