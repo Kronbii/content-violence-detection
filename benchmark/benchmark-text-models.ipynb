{
 "cells": [
  {
   "cell_type": "code",
   "execution_count": null,
   "id": "0855f1ab",
   "metadata": {},
   "outputs": [],
   "source": [
    "import pandas as pd\n",
    "import numpy as np"
   ]
  },
  {
   "cell_type": "code",
   "execution_count": null,
   "id": "a6ad4049",
   "metadata": {},
   "outputs": [],
   "source": [
    "# --- 1. Define File Paths ---\n",
    "# IMPORTANT: Make sure these file names match your CSV files exactly.\n",
    "tflite_predictions_file = '/home/kronbii/repos/content-violence-detection/output/text/text_pytorch_jigsaw.csv'\n",
    "pytorch_predictions_file = '/home/kronbii/repos/content-violence-detection/output/text/text_pytorch_jigsaw.csv'"
   ]
  },
  {
   "cell_type": "code",
   "execution_count": null,
   "id": "ae84d69a",
   "metadata": {},
   "outputs": [],
   "source": [
    "# --- 2. Load the Prediction CSVs ---\n",
    "print(f\"Loading TFLite predictions from: {tflite_predictions_file}\")\n",
    "print(f\"Loading PyTorch predictions from: {pytorch_predictions_file}\")\n",
    "\n",
    "try:\n",
    "    tflite_df = pd.read_csv(tflite_predictions_file)\n",
    "    pytorch_df = pd.read_csv(pytorch_predictions_file)\n",
    "except FileNotFoundError as e:\n",
    "    print(f\"\\n File Not Found Error: {e}\")\n",
    "    print(\"Please ensure the CSV files exist in the same directory as this script.\")\n",
    "    exit()"
   ]
  },
  {
   "cell_type": "code",
   "execution_count": null,
   "id": "90da44b7",
   "metadata": {},
   "outputs": [],
   "source": [
    "# --- 3. Binarize Predictions and Prepare for Merge ---\n",
    "# Define the label columns that will be processed\n",
    "label_cols = ['toxic', 'severe_toxic', 'obscene', 'threat', 'insult', 'identity_hate']\n",
    "\n",
    "# Create new DataFrames to hold the binarized data\n",
    "tflite_binary_df = tflite_df[['id']].copy()\n",
    "pytorch_binary_df = pytorch_df[['id']].copy()\n",
    "\n",
    "print(\"\\nBinarizing predictions with a 0.5 threshold...\")\n",
    "# Apply the 0.5 threshold to convert probabilities to 0s and 1s\n",
    "for col in label_cols:\n",
    "    tflite_binary_df[col] = (tflite_df[col] >= 0.5).astype(int)\n",
    "    pytorch_binary_df[col] = (pytorch_df[col] >= 0.5).astype(int)"
   ]
  },
  {
   "cell_type": "code",
   "execution_count": null,
   "id": "3442361e",
   "metadata": {},
   "outputs": [],
   "source": [
    "# --- 4. Merge DataFrames for Comparison ---\n",
    "# Merge on the 'id' column to align predictions for the same text.\n",
    "# Suffixes are added to distinguish columns (e.g., 'toxic_tflite', 'toxic_pytorch').\n",
    "merged_df = pd.merge(\n",
    "    tflite_binary_df,\n",
    "    pytorch_binary_df,\n",
    "    on='id',\n",
    "    suffixes=('_tflite', '_pytorch')\n",
    ")\n",
    "\n",
    "if len(merged_df) == 0:\n",
    "    print(\"\\n Error: No matching IDs found between the two CSV files.\")\n",
    "    print(\"Please ensure both files were generated from the exact same dataset.\")\n",
    "    exit()\n",
    "\n",
    "print(f\"\\nSuccessfully merged {len(merged_df)} corresponding predictions.\")"
   ]
  },
  {
   "cell_type": "code",
   "execution_count": null,
   "id": "a60fffa7",
   "metadata": {},
   "outputs": [],
   "source": [
    "# --- 5. Calculate Agreement Rate Per Label ---\n",
    "print(\"\\n\" + \"=\"*45)\n",
    "print(\"Model Agreement Rates (Per Label)\")\n",
    "print(\"=\"*45)\n",
    "\n",
    "total_samples = len(merged_df)\n",
    "\n",
    "# Calculate agreement for each label independently\n",
    "for label in label_cols:\n",
    "    tflite_col = f\"{label}_tflite\"\n",
    "    pytorch_col = f\"{label}_pytorch\"\n",
    "\n",
    "    # Count how many times the predictions in the two columns are identical\n",
    "    agreement_count = (merged_df[tflite_col] == merged_df[pytorch_col]).sum()\n",
    "\n",
    "    # Calculate the percentage\n",
    "    agreement_rate = (agreement_count / total_samples) * 100\n",
    "\n",
    "    # Display the result, formatted for alignment\n",
    "    print(f\"- {label.capitalize():<16} -> {agreement_rate:.2f}% agreement\")"
   ]
  },
  {
   "cell_type": "code",
   "execution_count": null,
   "id": "0a06833f",
   "metadata": {},
   "outputs": [],
   "source": [
    "# --- 6. Calculate Stricter Overall Agreement Rate ---\n",
    "# This checks how often the models agreed on ALL 6 labels for a given text.\n",
    "agreement_conditions = [\n",
    "    (merged_df[f\"{label}_tflite\"] == merged_df[f\"{label}_pytorch\"]) for label in label_cols\n",
    "]\n",
    "all_labels_agree = np.logical_and.reduce(agreement_conditions)\n",
    "\n",
    "overall_agreement_count = all_labels_agree.sum()\n",
    "overall_agreement_rate = (overall_agreement_count / total_samples) * 100\n",
    "\n",
    "print(\"\\n\" + \"=\"*45)\n",
    "print(\"Stricter Overall Agreement Rate\")\n",
    "print(\"=\"*45)\n",
    "print(\"This measures how often the models' full prediction vectors were identical.\")\n",
    "print(f\"\\nOverall Agreement: {overall_agreement_rate:.2f}%\")\n",
    "print(f\"({overall_agreement_count} out of {total_samples} predictions were identical across all labels)\")"
   ]
  }
 ],
 "metadata": {
  "kernelspec": {
   "display_name": "freelance",
   "language": "python",
   "name": "python3"
  },
  "language_info": {
   "name": "python",
   "version": "3.10.18"
  }
 },
 "nbformat": 4,
 "nbformat_minor": 5
}
